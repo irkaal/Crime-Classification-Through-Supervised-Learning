{
 "cells": [
  {
   "cell_type": "markdown",
   "metadata": {},
   "source": [
    "# Project Documentation\n",
    "\n",
    "### 1. Data Cleaning and Pre-processing"
   ]
  },
  {
   "cell_type": "code",
   "execution_count": 8,
   "metadata": {},
   "outputs": [],
   "source": [
    "# Read Data (Combine csv files)\n",
    "crime_data <- NA\n",
    "\n",
    "# library(reticulate)\n",
    "# reticulate::source_python('data-cleaning.py')\n",
    "# crime_data <- cleanData(crime_data)\n",
    "\n",
    "# Outlier Detection\n",
    "\n",
    "# Impute any missing/possibly incorrect values\n",
    "\n",
    "# Check for normality\n",
    "\n",
    "# Scaling/Standardization\n",
    "\n",
    "# One Hot Encoding for categorical features\n",
    "\n",
    "# Additional feature engineering\n"
   ]
  },
  {
   "cell_type": "markdown",
   "metadata": {},
   "source": [
    "### 2. Data Exploration"
   ]
  },
  {
   "cell_type": "code",
   "execution_count": 9,
   "metadata": {},
   "outputs": [],
   "source": [
    "# Visualizations\n",
    "\n",
    "# Insights\n"
   ]
  },
  {
   "cell_type": "markdown",
   "metadata": {},
   "source": [
    "### 3. Training"
   ]
  },
  {
   "cell_type": "code",
   "execution_count": 10,
   "metadata": {},
   "outputs": [],
   "source": [
    "# Feature and Model Selection using Cross Validation\n",
    "\n",
    "# Boosting\n"
   ]
  },
  {
   "cell_type": "markdown",
   "metadata": {},
   "source": [
    "### 4. Prediction and Conclusions/Reflections"
   ]
  },
  {
   "cell_type": "code",
   "execution_count": 4,
   "metadata": {},
   "outputs": [],
   "source": [
    "# Predict using the best model\n"
   ]
  }
 ],
 "metadata": {
  "kernelspec": {
   "display_name": "R",
   "language": "R",
   "name": "ir"
  },
  "language_info": {
   "codemirror_mode": "r",
   "file_extension": ".r",
   "mimetype": "text/x-r-source",
   "name": "R",
   "pygments_lexer": "r",
   "version": "3.6.1"
  }
 },
 "nbformat": 4,
 "nbformat_minor": 2
}
